{
 "cells": [
  {
   "cell_type": "code",
   "execution_count": 2,
   "id": "bc4cd23f-1304-4a04-a244-9fdc2d0eced0",
   "metadata": {},
   "outputs": [],
   "source": [
    "import numpy as np\n",
    "import pandas as pd\n",
    "from collections import defaultdict\n",
    "from matplotlib import pyplot as plt\n",
    "import plotly.graph_objects as go\n",
    "from plotly.subplots import make_subplots\n",
    "import plotly.express as px"
   ]
  },
  {
   "cell_type": "code",
   "execution_count": 3,
   "id": "09182910-504d-4c3f-99f7-0b01b9c512d8",
   "metadata": {},
   "outputs": [
    {
     "name": "stdout",
     "output_type": "stream",
     "text": [
      "TRAIN_DATA: (8000, 1378)\n",
      "EXERCISE_DATA: (2000, 1378)\n",
      "LABELS: (8000, 14)\n"
     ]
    }
   ],
   "source": [
    "#Download the data\n",
    "\n",
    "TRAIN_DATA = pd.read_csv('problem_train.csv', index_col=0, low_memory = False)\n",
    "EXERCISE_DATA = pd.read_csv('problem_test.csv', index_col=0, low_memory = False)\n",
    "LABELS = pd.read_csv('problem_labels.csv', index_col=0, low_memory = False)\n",
    "\n",
    "print('TRAIN_DATA:', TRAIN_DATA.shape)\n",
    "print('EXERCISE_DATA:', EXERCISE_DATA.shape)\n",
    "print('LABELS:', LABELS.shape)"
   ]
  },
  {
   "cell_type": "code",
   "execution_count": 4,
   "id": "aef6e02b-0a52-401a-abfa-95e18596bc68",
   "metadata": {},
   "outputs": [
    {
     "data": {
      "text/html": [
       "<div>\n",
       "<style scoped>\n",
       "    .dataframe tbody tr th:only-of-type {\n",
       "        vertical-align: middle;\n",
       "    }\n",
       "\n",
       "    .dataframe tbody tr th {\n",
       "        vertical-align: top;\n",
       "    }\n",
       "\n",
       "    .dataframe thead th {\n",
       "        text-align: right;\n",
       "    }\n",
       "</style>\n",
       "<table border=\"1\" class=\"dataframe\">\n",
       "  <thead>\n",
       "    <tr style=\"text-align: right;\">\n",
       "      <th></th>\n",
       "      <th>release</th>\n",
       "      <th>n_0000</th>\n",
       "      <th>n_0001</th>\n",
       "      <th>n_0002</th>\n",
       "      <th>n_0003</th>\n",
       "      <th>n_0004</th>\n",
       "      <th>n_0005</th>\n",
       "      <th>n_0006</th>\n",
       "      <th>n_0007</th>\n",
       "      <th>n_0008</th>\n",
       "      <th>...</th>\n",
       "      <th>c_1368</th>\n",
       "      <th>c_1369</th>\n",
       "      <th>c_1370</th>\n",
       "      <th>c_1371</th>\n",
       "      <th>c_1372</th>\n",
       "      <th>c_1373</th>\n",
       "      <th>c_1374</th>\n",
       "      <th>c_1375</th>\n",
       "      <th>c_1376</th>\n",
       "      <th>c_1377</th>\n",
       "    </tr>\n",
       "    <tr>\n",
       "      <th>id</th>\n",
       "      <th></th>\n",
       "      <th></th>\n",
       "      <th></th>\n",
       "      <th></th>\n",
       "      <th></th>\n",
       "      <th></th>\n",
       "      <th></th>\n",
       "      <th></th>\n",
       "      <th></th>\n",
       "      <th></th>\n",
       "      <th></th>\n",
       "      <th></th>\n",
       "      <th></th>\n",
       "      <th></th>\n",
       "      <th></th>\n",
       "      <th></th>\n",
       "      <th></th>\n",
       "      <th></th>\n",
       "      <th></th>\n",
       "      <th></th>\n",
       "      <th></th>\n",
       "    </tr>\n",
       "  </thead>\n",
       "  <tbody>\n",
       "    <tr>\n",
       "      <th>11193</th>\n",
       "      <td>a</td>\n",
       "      <td>NaN</td>\n",
       "      <td>NaN</td>\n",
       "      <td>0.025449</td>\n",
       "      <td>NaN</td>\n",
       "      <td>NaN</td>\n",
       "      <td>0.368421</td>\n",
       "      <td>NaN</td>\n",
       "      <td>NaN</td>\n",
       "      <td>NaN</td>\n",
       "      <td>...</td>\n",
       "      <td>NaN</td>\n",
       "      <td>NaN</td>\n",
       "      <td>NaN</td>\n",
       "      <td>NaN</td>\n",
       "      <td>a</td>\n",
       "      <td>NaN</td>\n",
       "      <td>q</td>\n",
       "      <td>NaN</td>\n",
       "      <td>NaN</td>\n",
       "      <td>NaN</td>\n",
       "    </tr>\n",
       "    <tr>\n",
       "      <th>11382</th>\n",
       "      <td>a</td>\n",
       "      <td>NaN</td>\n",
       "      <td>NaN</td>\n",
       "      <td>0.031297</td>\n",
       "      <td>NaN</td>\n",
       "      <td>NaN</td>\n",
       "      <td>0.315789</td>\n",
       "      <td>NaN</td>\n",
       "      <td>NaN</td>\n",
       "      <td>NaN</td>\n",
       "      <td>...</td>\n",
       "      <td>NaN</td>\n",
       "      <td>NaN</td>\n",
       "      <td>a</td>\n",
       "      <td>NaN</td>\n",
       "      <td>a</td>\n",
       "      <td>NaN</td>\n",
       "      <td>NaN</td>\n",
       "      <td>NaN</td>\n",
       "      <td>NaN</td>\n",
       "      <td>NaN</td>\n",
       "    </tr>\n",
       "    <tr>\n",
       "      <th>16531</th>\n",
       "      <td>a</td>\n",
       "      <td>NaN</td>\n",
       "      <td>NaN</td>\n",
       "      <td>0.024475</td>\n",
       "      <td>NaN</td>\n",
       "      <td>NaN</td>\n",
       "      <td>0.342105</td>\n",
       "      <td>NaN</td>\n",
       "      <td>NaN</td>\n",
       "      <td>NaN</td>\n",
       "      <td>...</td>\n",
       "      <td>NaN</td>\n",
       "      <td>NaN</td>\n",
       "      <td>a</td>\n",
       "      <td>NaN</td>\n",
       "      <td>a</td>\n",
       "      <td>NaN</td>\n",
       "      <td>b</td>\n",
       "      <td>NaN</td>\n",
       "      <td>NaN</td>\n",
       "      <td>NaN</td>\n",
       "    </tr>\n",
       "    <tr>\n",
       "      <th>1896</th>\n",
       "      <td>a</td>\n",
       "      <td>NaN</td>\n",
       "      <td>NaN</td>\n",
       "      <td>0.041694</td>\n",
       "      <td>NaN</td>\n",
       "      <td>NaN</td>\n",
       "      <td>0.447368</td>\n",
       "      <td>NaN</td>\n",
       "      <td>NaN</td>\n",
       "      <td>NaN</td>\n",
       "      <td>...</td>\n",
       "      <td>NaN</td>\n",
       "      <td>NaN</td>\n",
       "      <td>NaN</td>\n",
       "      <td>NaN</td>\n",
       "      <td>a</td>\n",
       "      <td>NaN</td>\n",
       "      <td>NaN</td>\n",
       "      <td>NaN</td>\n",
       "      <td>NaN</td>\n",
       "      <td>NaN</td>\n",
       "    </tr>\n",
       "    <tr>\n",
       "      <th>18262</th>\n",
       "      <td>c</td>\n",
       "      <td>NaN</td>\n",
       "      <td>NaN</td>\n",
       "      <td>0.038120</td>\n",
       "      <td>NaN</td>\n",
       "      <td>NaN</td>\n",
       "      <td>0.315789</td>\n",
       "      <td>NaN</td>\n",
       "      <td>NaN</td>\n",
       "      <td>NaN</td>\n",
       "      <td>...</td>\n",
       "      <td>NaN</td>\n",
       "      <td>NaN</td>\n",
       "      <td>b</td>\n",
       "      <td>NaN</td>\n",
       "      <td>a</td>\n",
       "      <td>NaN</td>\n",
       "      <td>a</td>\n",
       "      <td>NaN</td>\n",
       "      <td>NaN</td>\n",
       "      <td>NaN</td>\n",
       "    </tr>\n",
       "    <tr>\n",
       "      <th>10540</th>\n",
       "      <td>b</td>\n",
       "      <td>NaN</td>\n",
       "      <td>NaN</td>\n",
       "      <td>0.039420</td>\n",
       "      <td>NaN</td>\n",
       "      <td>NaN</td>\n",
       "      <td>0.368421</td>\n",
       "      <td>NaN</td>\n",
       "      <td>NaN</td>\n",
       "      <td>NaN</td>\n",
       "      <td>...</td>\n",
       "      <td>NaN</td>\n",
       "      <td>NaN</td>\n",
       "      <td>NaN</td>\n",
       "      <td>NaN</td>\n",
       "      <td>a</td>\n",
       "      <td>NaN</td>\n",
       "      <td>NaN</td>\n",
       "      <td>NaN</td>\n",
       "      <td>NaN</td>\n",
       "      <td>NaN</td>\n",
       "    </tr>\n",
       "    <tr>\n",
       "      <th>5244</th>\n",
       "      <td>c</td>\n",
       "      <td>NaN</td>\n",
       "      <td>NaN</td>\n",
       "      <td>0.050141</td>\n",
       "      <td>NaN</td>\n",
       "      <td>NaN</td>\n",
       "      <td>0.394737</td>\n",
       "      <td>0.2</td>\n",
       "      <td>NaN</td>\n",
       "      <td>NaN</td>\n",
       "      <td>...</td>\n",
       "      <td>NaN</td>\n",
       "      <td>NaN</td>\n",
       "      <td>NaN</td>\n",
       "      <td>NaN</td>\n",
       "      <td>a</td>\n",
       "      <td>NaN</td>\n",
       "      <td>NaN</td>\n",
       "      <td>NaN</td>\n",
       "      <td>NaN</td>\n",
       "      <td>NaN</td>\n",
       "    </tr>\n",
       "    <tr>\n",
       "      <th>1929</th>\n",
       "      <td>a</td>\n",
       "      <td>NaN</td>\n",
       "      <td>NaN</td>\n",
       "      <td>0.049166</td>\n",
       "      <td>NaN</td>\n",
       "      <td>NaN</td>\n",
       "      <td>0.710526</td>\n",
       "      <td>NaN</td>\n",
       "      <td>NaN</td>\n",
       "      <td>NaN</td>\n",
       "      <td>...</td>\n",
       "      <td>NaN</td>\n",
       "      <td>NaN</td>\n",
       "      <td>NaN</td>\n",
       "      <td>NaN</td>\n",
       "      <td>a</td>\n",
       "      <td>NaN</td>\n",
       "      <td>NaN</td>\n",
       "      <td>NaN</td>\n",
       "      <td>NaN</td>\n",
       "      <td>NaN</td>\n",
       "    </tr>\n",
       "    <tr>\n",
       "      <th>11928</th>\n",
       "      <td>b</td>\n",
       "      <td>NaN</td>\n",
       "      <td>NaN</td>\n",
       "      <td>0.050249</td>\n",
       "      <td>NaN</td>\n",
       "      <td>NaN</td>\n",
       "      <td>0.394737</td>\n",
       "      <td>NaN</td>\n",
       "      <td>NaN</td>\n",
       "      <td>NaN</td>\n",
       "      <td>...</td>\n",
       "      <td>NaN</td>\n",
       "      <td>NaN</td>\n",
       "      <td>NaN</td>\n",
       "      <td>NaN</td>\n",
       "      <td>b</td>\n",
       "      <td>NaN</td>\n",
       "      <td>NaN</td>\n",
       "      <td>NaN</td>\n",
       "      <td>NaN</td>\n",
       "      <td>b</td>\n",
       "    </tr>\n",
       "    <tr>\n",
       "      <th>6327</th>\n",
       "      <td>a</td>\n",
       "      <td>NaN</td>\n",
       "      <td>NaN</td>\n",
       "      <td>0.049491</td>\n",
       "      <td>NaN</td>\n",
       "      <td>NaN</td>\n",
       "      <td>0.500000</td>\n",
       "      <td>NaN</td>\n",
       "      <td>NaN</td>\n",
       "      <td>NaN</td>\n",
       "      <td>...</td>\n",
       "      <td>NaN</td>\n",
       "      <td>NaN</td>\n",
       "      <td>NaN</td>\n",
       "      <td>NaN</td>\n",
       "      <td>a</td>\n",
       "      <td>NaN</td>\n",
       "      <td>NaN</td>\n",
       "      <td>NaN</td>\n",
       "      <td>NaN</td>\n",
       "      <td>NaN</td>\n",
       "    </tr>\n",
       "  </tbody>\n",
       "</table>\n",
       "<p>10 rows × 1378 columns</p>\n",
       "</div>"
      ],
      "text/plain": [
       "      release  n_0000  n_0001    n_0002  n_0003  n_0004    n_0005  n_0006  \\\n",
       "id                                                                          \n",
       "11193       a     NaN     NaN  0.025449     NaN     NaN  0.368421     NaN   \n",
       "11382       a     NaN     NaN  0.031297     NaN     NaN  0.315789     NaN   \n",
       "16531       a     NaN     NaN  0.024475     NaN     NaN  0.342105     NaN   \n",
       "1896        a     NaN     NaN  0.041694     NaN     NaN  0.447368     NaN   \n",
       "18262       c     NaN     NaN  0.038120     NaN     NaN  0.315789     NaN   \n",
       "10540       b     NaN     NaN  0.039420     NaN     NaN  0.368421     NaN   \n",
       "5244        c     NaN     NaN  0.050141     NaN     NaN  0.394737     0.2   \n",
       "1929        a     NaN     NaN  0.049166     NaN     NaN  0.710526     NaN   \n",
       "11928       b     NaN     NaN  0.050249     NaN     NaN  0.394737     NaN   \n",
       "6327        a     NaN     NaN  0.049491     NaN     NaN  0.500000     NaN   \n",
       "\n",
       "       n_0007  n_0008  ...  c_1368  c_1369  c_1370  c_1371  c_1372  c_1373  \\\n",
       "id                     ...                                                   \n",
       "11193     NaN     NaN  ...     NaN     NaN     NaN     NaN       a     NaN   \n",
       "11382     NaN     NaN  ...     NaN     NaN       a     NaN       a     NaN   \n",
       "16531     NaN     NaN  ...     NaN     NaN       a     NaN       a     NaN   \n",
       "1896      NaN     NaN  ...     NaN     NaN     NaN     NaN       a     NaN   \n",
       "18262     NaN     NaN  ...     NaN     NaN       b     NaN       a     NaN   \n",
       "10540     NaN     NaN  ...     NaN     NaN     NaN     NaN       a     NaN   \n",
       "5244      NaN     NaN  ...     NaN     NaN     NaN     NaN       a     NaN   \n",
       "1929      NaN     NaN  ...     NaN     NaN     NaN     NaN       a     NaN   \n",
       "11928     NaN     NaN  ...     NaN     NaN     NaN     NaN       b     NaN   \n",
       "6327      NaN     NaN  ...     NaN     NaN     NaN     NaN       a     NaN   \n",
       "\n",
       "       c_1374  c_1375  c_1376  c_1377  \n",
       "id                                     \n",
       "11193       q     NaN     NaN     NaN  \n",
       "11382     NaN     NaN     NaN     NaN  \n",
       "16531       b     NaN     NaN     NaN  \n",
       "1896      NaN     NaN     NaN     NaN  \n",
       "18262       a     NaN     NaN     NaN  \n",
       "10540     NaN     NaN     NaN     NaN  \n",
       "5244      NaN     NaN     NaN     NaN  \n",
       "1929      NaN     NaN     NaN     NaN  \n",
       "11928     NaN     NaN     NaN       b  \n",
       "6327      NaN     NaN     NaN     NaN  \n",
       "\n",
       "[10 rows x 1378 columns]"
      ]
     },
     "execution_count": 4,
     "metadata": {},
     "output_type": "execute_result"
    }
   ],
   "source": [
    "# Let's have a look at the data\n",
    "\n",
    "TRAIN_DATA.head(10)"
   ]
  },
  {
   "cell_type": "code",
   "execution_count": 5,
   "id": "9469844b-2dd8-4538-b32c-50c90be9ebbf",
   "metadata": {},
   "outputs": [
    {
     "name": "stdout",
     "output_type": "stream",
     "text": [
      "WHOLE_DATA: (10000, 1378)\n",
      "DATA_W_LABELS: (8000, 1392)\n"
     ]
    }
   ],
   "source": [
    "# To study statistics, I combine all the data into one dataset, and also combine the data with the available answers\n",
    "\n",
    "WHOLE_DATA = pd.concat([TRAIN_DATA,EXERCISE_DATA],axis=0)\n",
    "DATA_W_LABELS = pd.concat([TRAIN_DATA,LABELS],axis=1)\n",
    "\n",
    "print('WHOLE_DATA:', WHOLE_DATA.shape)\n",
    "print('DATA_W_LABELS:', DATA_W_LABELS.shape)"
   ]
  },
  {
   "cell_type": "code",
   "execution_count": 6,
   "id": "6ca7208b-6726-4e75-bca0-a5829cfd5e76",
   "metadata": {},
   "outputs": [
    {
     "name": "stdout",
     "output_type": "stream",
     "text": [
      "TRAIN_DATA: (8000, 1342)\n",
      "EXERCISE_DATA: (2000, 1342)\n",
      "WHOLE_DATA: (10000, 1342)\n"
     ]
    }
   ],
   "source": [
    "# scikit-learn's VarianceThreshold doesnt work with categorical features, \n",
    "# so I remove empty columns and remove columns completely filled with a single value by hand\n",
    "\n",
    "TRAIN_DATA.dropna(axis='columns', how='all', inplace=True)\n",
    "\n",
    "EXERCISE_DATA = EXERCISE_DATA[TRAIN_DATA.columns.tolist()]\n",
    "WHOLE_DATA = WHOLE_DATA[TRAIN_DATA.columns.tolist()]\n",
    "DATA_W_LABELS = pd.concat([TRAIN_DATA,LABELS],axis=1)\n",
    "\n",
    "with_1_uniq_value = []\n",
    "for col in TRAIN_DATA.columns.tolist():\n",
    "    if len(TRAIN_DATA[col].unique()) == 1 and TRAIN_DATA[col].isna().sum() == 0:\n",
    "        with_1_uniq_value.append(col)\n",
    "\n",
    "for data in [TRAIN_DATA, EXERCISE_DATA, WHOLE_DATA, DATA_W_LABELS]:\n",
    "    data.drop(columns = with_1_uniq_value, inplace=True)\n",
    "    data.replace('NaN', np.nan)\n",
    "    \n",
    "print('TRAIN_DATA:', TRAIN_DATA.shape)\n",
    "print('EXERCISE_DATA:', EXERCISE_DATA.shape)\n",
    "print('WHOLE_DATA:', WHOLE_DATA.shape)"
   ]
  },
  {
   "cell_type": "markdown",
   "id": "cf9f81ee-9522-411b-a5d8-e43ac3e7e4fc",
   "metadata": {},
   "source": [
    "Thus we deleted 30 completely empty columns and 6 useless columns filled completely with a single value."
   ]
  },
  {
   "cell_type": "code",
   "execution_count": 7,
   "id": "687a3d49-80f5-43fd-8e01-4effab592637",
   "metadata": {},
   "outputs": [
    {
     "data": {
      "text/plain": [
       "[('r', 1), ('n', 109), ('o', 208), ('c', 1024)]"
      ]
     },
     "execution_count": 7,
     "metadata": {},
     "output_type": "execute_result"
    }
   ],
   "source": [
    "#Let's divide the dataset columns into 3 categories (according to the first letter of the name) and count the number of columns in each category.\n",
    "\n",
    "def columns_stat(df: pd.DataFrame):\n",
    "    columns = df.columns.tolist()\n",
    "    columns_categories = defaultdict(list)\n",
    "    for col in columns:\n",
    "        if col == 'release':\n",
    "            columns_categories['release'].append(col)\n",
    "        elif str(col)[0].isalpha():\n",
    "            columns_categories[col[0]].append(col)\n",
    "    return columns_categories\n",
    "\n",
    "def columns_catstat(columns_categories):\n",
    "    return [(key, len(columns_categories[key])) for key in columns_categories.keys()]\n",
    "\n",
    "stat = {}\n",
    "columns_categories = defaultdict(list)\n",
    "for col in WHOLE_DATA:\n",
    "    stat[col] = WHOLE_DATA[col].notna().sum()\n",
    "    columns_categories[col[0]].append(col)\n",
    "[(key, len(columns_categories[key])) for key in columns_categories.keys()]"
   ]
  },
  {
   "cell_type": "markdown",
   "id": "e547eef1-f71f-4dff-9bdc-33d199a4baa8",
   "metadata": {},
   "source": [
    "Thus we see that the most of the dataset consists of categorical columns."
   ]
  },
  {
   "cell_type": "markdown",
   "id": "91666747-25ce-44fd-aaa3-8d619eccf520",
   "metadata": {},
   "source": [
    "## Statistics for missing and unique values"
   ]
  },
  {
   "cell_type": "code",
   "execution_count": 8,
   "id": "fb2daecf-c24c-4ae0-82ea-560f3052ef0e",
   "metadata": {},
   "outputs": [],
   "source": [
    "def Occupancy_Cardinality_Plots(data, category, count_unique=False):\n",
    "\n",
    "    ncols=3 if count_unique else 2\n",
    "    \n",
    "    fig, axs = plt.subplots(nrows=1, ncols=ncols, figsize=(5*ncols,5))\n",
    "    cols = []\n",
    "    \n",
    "    for thresh in range(len(data)):\n",
    "        cols.append(len([col for col in columns_categories[category] if stat[col] >= thresh]))\n",
    "        \n",
    "    axs[0].plot(range(len(data)),cols) \n",
    "    axs[0].set_title('occupancy rate')\n",
    "    axs[0].set_xlabel('occupancy')\n",
    "    axs[0].set_ylabel('# columns')\n",
    "    axs[0].grid(True)\n",
    "\n",
    "    df = data[columns_categories[category]]\n",
    "\n",
    "    cardinality = df.nunique(dropna=False)\n",
    "    missinig_values = df.isnull().sum()\n",
    "    feature_stats = pd.DataFrame({'card': cardinality, 'miss': missinig_values})\n",
    "    axs[1].scatter(feature_stats['card'], feature_stats['miss'], alpha=0.65)\n",
    "    axs[1].set_title('cardinality vs missing')\n",
    "    axs[1].set_xlabel('cardinality')\n",
    "    axs[1].set_ylabel('miss')\n",
    "    axs[1].grid(True)\n",
    " \n",
    "    if count_unique:\n",
    "        lenghts = {}\n",
    "        for col in columns_categories[category]:\n",
    "            if len(df[col].unique()) in lenghts.keys():\n",
    "                lenghts[len(df[col].unique())] += 1\n",
    "            else: \n",
    "                lenghts[len(df[col].unique())] = 1\n",
    "            \n",
    "        lenghts = dict(sorted(lenghts.items()))\n",
    "        \n",
    "        keys = list(lenghts.keys())[0:40]\n",
    "        vals = list(lenghts.values())[0:40]\n",
    "        \n",
    "        axs[2].bar(keys, vals)\n",
    "        axs[2].set_title('statictics of unique values')\n",
    "        axs[2].set_xlabel('cardinality')\n",
    "        axs[2].set_ylabel('# columns')\n",
    "        axs[2].grid(True)\n",
    "\n",
    "    plt.show()"
   ]
  },
  {
   "cell_type": "markdown",
   "id": "66463381-e33f-48eb-95b2-b57bfce132b0",
   "metadata": {},
   "source": [
    "As we can see from the following graphs, there are a lot of missing values in the data. "
   ]
  },
  {
   "cell_type": "markdown",
   "id": "f4f23e89-a7fa-4609-b975-65a0fb7b3572",
   "metadata": {},
   "source": [
    "### Numerical columns"
   ]
  },
  {
   "cell_type": "code",
   "execution_count": 9,
   "id": "14b498f1-5d22-4e35-84a6-cad1e031fbc6",
   "metadata": {},
   "outputs": [
    {
     "data": {
      "image/png": "[encoded data removed]",
      "text/plain": [
       "<Figure size 1000x500 with 2 Axes>"
      ]
     },
     "metadata": {},
     "output_type": "display_data"
    }
   ],
   "source": [
    "Occupancy_Cardinality_Plots(WHOLE_DATA, 'n')"
   ]
  },
  {
   "cell_type": "markdown",
   "id": "171da4f7-caf2-486a-98ae-a81e8b0e423e",
   "metadata": {},
   "source": [
    "### Ordinal columns"
   ]
  },
  {
   "cell_type": "code",
   "execution_count": 10,
   "id": "f5cd43ac-7e19-4ef1-bba9-495d91cb6a0b",
   "metadata": {},
   "outputs": [
    {
     "data": {
      "image/png": "[encoded data removed]",
      "text/plain": [
       "<Figure size 1500x500 with 3 Axes>"
      ]
     },
     "metadata": {},
     "output_type": "display_data"
    }
   ],
   "source": [
    "Occupancy_Cardinality_Plots(WHOLE_DATA, 'o', True)"
   ]
  },
  {
   "cell_type": "markdown",
   "id": "ff34c9a0-4095-42ba-8ce5-cfd54abd87b2",
   "metadata": {},
   "source": [
    "We see that ordinal columns take at least half as many unique values as numerical ones. This makes them closer to categorical. We also see that many ordinal columns take from 2 to 14 unique values. Let's try to apply one-hot-encoding to them, along with categorical columns with the same statistics."
   ]
  },
  {
   "cell_type": "markdown",
   "id": "4dc74024-348a-4d23-9fa9-fdd7f50d2145",
   "metadata": {},
   "source": [
    "### Categorical columns"
   ]
  },
  {
   "cell_type": "code",
   "execution_count": 11,
   "id": "6cb4d508-1310-4101-b610-990650fe179e",
   "metadata": {},
   "outputs": [
    {
     "data": {
      "image/png": "[encoded data removed]",
      "text/plain": [
       "<Figure size 1500x500 with 3 Axes>"
      ]
     },
     "metadata": {},
     "output_type": "display_data"
    }
   ],
   "source": [
    "Occupancy_Cardinality_Plots(WHOLE_DATA,'o', True)"
   ]
  },
  {
   "cell_type": "markdown",
   "id": "b26c8b26-4b7b-4d70-adb9-29d163fefbf6",
   "metadata": {},
   "source": [
    "Here you can see that the maximum number of unique values for majority of well-fillid columns is slightly more than 30 (in fact, these columns contain lowercase and uppercase letters of the Latin alphabet), and mostly categorical columns contain no more than 10 values (NaN is considered a unique value). I will try to use one-hot encoding for these columns, and will either encode the rest without creating additional columns, or use an embedding, the dimension of which will be also determined by the number of unique values."
   ]
  },
  {
   "cell_type": "markdown",
   "id": "23fae20c-ed8b-404d-9956-1dd8f5ff4f71",
   "metadata": {},
   "source": [
    "## Conclusion:"
   ]
  },
  {
   "cell_type": "markdown",
   "id": "6548b8d5-4cb9-4003-a925-b74476bb6996",
   "metadata": {},
   "source": [
    "Overall, we see a similar pattern of occupancy for all three types of columns (1st plots). This is good and means that we can throw out columns by percentage of occupancy for all types simultaneously, expecting to get a balanced dataset. Moreover, such a pattern may indicate that the missing values in the data may not be random (Missing Not at Random or MNAR), and the indication of a missing value can be informative and useful in itself. Therefore, as the simplest way to fill the gaps, I will choose to impute with a constant value, which obviously goes beyond the range of the existing values. Since in our case, the dataset is filled with positive values, we can impute with a large negative value as an indication of a missing value. This a solid choice for \"tree-based\" ML-algorithms, but I will try other imputation methods as well."
   ]
  },
  {
   "cell_type": "markdown",
   "id": "9c2ce669-4997-4415-a7e7-d58ffa79bf6b",
   "metadata": {},
   "source": [
    "## Release Column & Cyclicity of Data"
   ]
  },
  {
   "cell_type": "markdown",
   "id": "fd7bcebf-b1d7-45b9-a0b0-efe7d9a8df70",
   "metadata": {},
   "source": [
    "The \"release\" column is special. It is filled completely and takes only 3 values: 'A', 'B', 'C'.\n",
    "As can be seen from the following graphs (the column indicates the number of “1s” in a given target column), “release” reflects some cyclicity in the data, you can see a clear direct correlation for at least half of the target columns. And moreover, as follows from a simple calculation, the ratio of the sum of all units in all target columns to the number of samples in the dateset with a given release is approximately preserved."
   ]
  },
  {
   "cell_type": "code",
   "execution_count": 15,
   "id": "6587a2c6-887d-4b18-89f1-94c357a70494",
   "metadata": {},
   "outputs": [
    {
     "data": {
      "application/vnd.plotly.v1+json": {
       "config": {
        "plotlyServerURL": "https://plot.ly"
       },
       "data": [
        {
         "type": "bar",
         "x": [
          "service_a",
          "service_b",
          "service_c",
          "service_d",
          "service_e",
          "service_f",
          "service_g",
          "service_h",
          "service_i",
          "service_j",
          "service_k",
          "service_l",
          "service_m",
          "service_n"
         ],
         "xaxis": "x",
         "y": [
          1814,
          1206,
          996,
          94,
          178,
          133,
          209,
          1076,
          62,
          3265,
          2969,
          406,
          328,
          958
         ],
         "yaxis": "y"
        },
        {
         "type": "bar",
         "x": [
          "service_a",
          "service_b",
          "service_c",
          "service_d",
          "service_e",
          "service_f",
          "service_g",
          "service_h",
          "service_i",
          "service_j",
          "service_k",
          "service_l",
          "service_m",
          "service_n"
         ],
         "xaxis": "x2",
         "y": [
          1184,
          827,
          632,
          0,
          163,
          37,
          127,
          705,
          40,
          2168,
          1989,
          258,
          219,
          0
         ],
         "yaxis": "y2"
        },
        {
         "type": "bar",
         "x": [
          "service_a",
          "service_b",
          "service_c",
          "service_d",
          "service_e",
          "service_f",
          "service_g",
          "service_h",
          "service_i",
          "service_j",
          "service_k",
          "service_l",
          "service_m",
          "service_n"
         ],
         "xaxis": "x3",
         "y": [
          779,
          593,
          465,
          42,
          90,
          63,
          79,
          595,
          27,
          1353,
          1298,
          200,
          162,
          466
         ],
         "yaxis": "y3"
        }
       ],
       "layout": {
        "annotations": [
         {
          "font": {
           "size": 16
          },
          "showarrow": false,
          "text": "`A`: serv/total=13694/3838=3.57",
          "x": 0.14444444444444446,
          "xanchor": "center",
          "xref": "paper",
          "y": 1,
          "yanchor": "bottom",
          "yref": "paper"
         },
         {
          "font": {
           "size": 16
          },
          "showarrow": false,
          "text": "`B`: serv/total=8349/2464=3.39",
          "x": 0.5,
          "xanchor": "center",
          "xref": "paper",
          "y": 1,
          "yanchor": "bottom",
          "yref": "paper"
         },
         {
          "font": {
           "size": 16
          },
          "showarrow": false,
          "text": "`C`: serv/total=6212/1698=3.66",
          "x": 0.8555555555555556,
          "xanchor": "center",
          "xref": "paper",
          "y": 1,
          "yanchor": "bottom",
          "yref": "paper"
         }
        ],
        "height": 360,
        "showlegend": false,
        "template": {
         "data": {
          "bar": [
           {
            "error_x": {
             "color": "#2a3f5f"
            },
            "error_y": {
             "color": "#2a3f5f"
            },
            "marker": {
             "line": {
              "color": "#E5ECF6",
              "width": 0.5
             },
             "pattern": {
              "fillmode": "overlay",
              "size": 10,
              "solidity": 0.2
             }
            },
            "type": "bar"
           }
          ],
          "barpolar": [
           {
            "marker": {
             "line": {
              "color": "#E5ECF6",
              "width": 0.5
             },
             "pattern": {
              "fillmode": "overlay",
              "size": 10,
              "solidity": 0.2
             }
            },
            "type": "barpolar"
           }
          ],
          "carpet": [
           {
            "aaxis": {
             "endlinecolor": "#2a3f5f",
             "gridcolor": "white",
             "linecolor": "white",
             "minorgridcolor": "white",
             "startlinecolor": "#2a3f5f"
            },
            "baxis": {
             "endlinecolor": "#2a3f5f",
             "gridcolor": "white",
             "linecolor": "white",
             "minorgridcolor": "white",
             "startlinecolor": "#2a3f5f"
            },
            "type": "carpet"
           }
          ],
          "choropleth": [
           {
            "colorbar": {
             "outlinewidth": 0,
             "ticks": ""
            },
            "type": "choropleth"
           }
          ],
          "contour": [
           {
            "colorbar": {
             "outlinewidth": 0,
             "ticks": ""
            },
            "colorscale": [
             [
              0,
              "#0d0887"
             ],
             [
              0.1111111111111111,
              "#46039f"
             ],
             [
              0.2222222222222222,
              "#7201a8"
             ],
             [
              0.3333333333333333,
              "#9c179e"
             ],
             [
              0.4444444444444444,
              "#bd3786"
             ],
             [
              0.5555555555555556,
              "#d8576b"
             ],
             [
              0.6666666666666666,
              "#ed7953"
             ],
             [
              0.7777777777777778,
              "#fb9f3a"
             ],
             [
              0.8888888888888888,
              "#fdca26"
             ],
             [
              1,
              "#f0f921"
             ]
            ],
            "type": "contour"
           }
          ],
          "contourcarpet": [
           {
            "colorbar": {
             "outlinewidth": 0,
             "ticks": ""
            },
            "type": "contourcarpet"
           }
          ],
          "heatmap": [
           {
            "colorbar": {
             "outlinewidth": 0,
             "ticks": ""
            },
            "colorscale": [
             [
              0,
              "#0d0887"
             ],
             [
              0.1111111111111111,
              "#46039f"
             ],
             [
              0.2222222222222222,
              "#7201a8"
             ],
             [
              0.3333333333333333,
              "#9c179e"
             ],
             [
              0.4444444444444444,
              "#bd3786"
             ],
             [
              0.5555555555555556,
              "#d8576b"
             ],
             [
              0.6666666666666666,
              "#ed7953"
             ],
             [
              0.7777777777777778,
              "#fb9f3a"
             ],
             [
              0.8888888888888888,
              "#fdca26"
             ],
             [
              1,
              "#f0f921"
             ]
            ],
            "type": "heatmap"
           }
          ],
          "heatmapgl": [
           {
            "colorbar": {
             "outlinewidth": 0,
             "ticks": ""
            },
            "colorscale": [
             [
              0,
              "#0d0887"
             ],
             [
              0.1111111111111111,
              "#46039f"
             ],
             [
              0.2222222222222222,
              "#7201a8"
             ],
             [
              0.3333333333333333,
              "#9c179e"
             ],
             [
              0.4444444444444444,
              "#bd3786"
             ],
             [
              0.5555555555555556,
              "#d8576b"
             ],
             [
              0.6666666666666666,
              "#ed7953"
             ],
             [
              0.7777777777777778,
              "#fb9f3a"
             ],
             [
              0.8888888888888888,
              "#fdca26"
             ],
             [
              1,
              "#f0f921"
             ]
            ],
            "type": "heatmapgl"
           }
          ],
          "histogram": [
           {
            "marker": {
             "pattern": {
              "fillmode": "overlay",
              "size": 10,
              "solidity": 0.2
             }
            },
            "type": "histogram"
           }
          ],
          "histogram2d": [
           {
            "colorbar": {
             "outlinewidth": 0,
             "ticks": ""
            },
            "colorscale": [
             [
              0,
              "#0d0887"
             ],
             [
              0.1111111111111111,
              "#46039f"
             ],
             [
              0.2222222222222222,
              "#7201a8"
             ],
             [
              0.3333333333333333,
              "#9c179e"
             ],
             [
              0.4444444444444444,
              "#bd3786"
             ],
             [
              0.5555555555555556,
              "#d8576b"
             ],
             [
              0.6666666666666666,
              "#ed7953"
             ],
             [
              0.7777777777777778,
              "#fb9f3a"
             ],
             [
              0.8888888888888888,
              "#fdca26"
             ],
             [
              1,
              "#f0f921"
             ]
            ],
            "type": "histogram2d"
           }
          ],
          "histogram2dcontour": [
           {
            "colorbar": {
             "outlinewidth": 0,
             "ticks": ""
            },
            "colorscale": [
             [
              0,
              "#0d0887"
             ],
             [
              0.1111111111111111,
              "#46039f"
             ],
             [
              0.2222222222222222,
              "#7201a8"
             ],
             [
              0.3333333333333333,
              "#9c179e"
             ],
             [
              0.4444444444444444,
              "#bd3786"
             ],
             [
              0.5555555555555556,
              "#d8576b"
             ],
             [
              0.6666666666666666,
              "#ed7953"
             ],
             [
              0.7777777777777778,
              "#fb9f3a"
             ],
             [
              0.8888888888888888,
              "#fdca26"
             ],
             [
              1,
              "#f0f921"
             ]
            ],
            "type": "histogram2dcontour"
           }
          ],
          "mesh3d": [
           {
            "colorbar": {
             "outlinewidth": 0,
             "ticks": ""
            },
            "type": "mesh3d"
           }
          ],
          "parcoords": [
           {
            "line": {
             "colorbar": {
              "outlinewidth": 0,
              "ticks": ""
             }
            },
            "type": "parcoords"
           }
          ],
          "pie": [
           {
            "automargin": true,
            "type": "pie"
           }
          ],
          "scatter": [
           {
            "fillpattern": {
             "fillmode": "overlay",
             "size": 10,
             "solidity": 0.2
            },
            "type": "scatter"
           }
          ],
          "scatter3d": [
           {
            "line": {
             "colorbar": {
              "outlinewidth": 0,
              "ticks": ""
             }
            },
            "marker": {
             "colorbar": {
              "outlinewidth": 0,
              "ticks": ""
             }
            },
            "type": "scatter3d"
           }
          ],
          "scattercarpet": [
           {
            "marker": {
             "colorbar": {
              "outlinewidth": 0,
              "ticks": ""
             }
            },
            "type": "scattercarpet"
           }
          ],
          "scattergeo": [
           {
            "marker": {
             "colorbar": {
              "outlinewidth": 0,
              "ticks": ""
             }
            },
            "type": "scattergeo"
           }
          ],
          "scattergl": [
           {
            "marker": {
             "colorbar": {
              "outlinewidth": 0,
              "ticks": ""
             }
            },
            "type": "scattergl"
           }
          ],
          "scattermapbox": [
           {
            "marker": {
             "colorbar": {
              "outlinewidth": 0,
              "ticks": ""
             }
            },
            "type": "scattermapbox"
           }
          ],
          "scatterpolar": [
           {
            "marker": {
             "colorbar": {
              "outlinewidth": 0,
              "ticks": ""
             }
            },
            "type": "scatterpolar"
           }
          ],
          "scatterpolargl": [
           {
            "marker": {
             "colorbar": {
              "outlinewidth": 0,
              "ticks": ""
             }
            },
            "type": "scatterpolargl"
           }
          ],
          "scatterternary": [
           {
            "marker": {
             "colorbar": {
              "outlinewidth": 0,
              "ticks": ""
             }
            },
            "type": "scatterternary"
           }
          ],
          "surface": [
           {
            "colorbar": {
             "outlinewidth": 0,
             "ticks": ""
            },
            "colorscale": [
             [
              0,
              "#0d0887"
             ],
             [
              0.1111111111111111,
              "#46039f"
             ],
             [
              0.2222222222222222,
              "#7201a8"
             ],
             [
              0.3333333333333333,
              "#9c179e"
             ],
             [
              0.4444444444444444,
              "#bd3786"
             ],
             [
              0.5555555555555556,
              "#d8576b"
             ],
             [
              0.6666666666666666,
              "#ed7953"
             ],
             [
              0.7777777777777778,
              "#fb9f3a"
             ],
             [
              0.8888888888888888,
              "#fdca26"
             ],
             [
              1,
              "#f0f921"
             ]
            ],
            "type": "surface"
           }
          ],
          "table": [
           {
            "cells": {
             "fill": {
              "color": "#EBF0F8"
             },
             "line": {
              "color": "white"
             }
            },
            "header": {
             "fill": {
              "color": "#C8D4E3"
             },
             "line": {
              "color": "white"
             }
            },
            "type": "table"
           }
          ]
         },
         "layout": {
          "annotationdefaults": {
           "arrowcolor": "#2a3f5f",
           "arrowhead": 0,
           "arrowwidth": 1
          },
          "autotypenumbers": "strict",
          "coloraxis": {
           "colorbar": {
            "outlinewidth": 0,
            "ticks": ""
           }
          },
          "colorscale": {
           "diverging": [
            [
             0,
             "#8e0152"
            ],
            [
             0.1,
             "#c51b7d"
            ],
            [
             0.2,
             "#de77ae"
            ],
            [
             0.3,
             "#f1b6da"
            ],
            [
             0.4,
             "#fde0ef"
            ],
            [
             0.5,
             "#f7f7f7"
            ],
            [
             0.6,
             "#e6f5d0"
            ],
            [
             0.7,
             "#b8e186"
            ],
            [
             0.8,
             "#7fbc41"
            ],
            [
             0.9,
             "#4d9221"
            ],
            [
             1,
             "#276419"
            ]
           ],
           "sequential": [
            [
             0,
             "#0d0887"
            ],
            [
             0.1111111111111111,
             "#46039f"
            ],
            [
             0.2222222222222222,
             "#7201a8"
            ],
            [
             0.3333333333333333,
             "#9c179e"
            ],
            [
             0.4444444444444444,
             "#bd3786"
            ],
            [
             0.5555555555555556,
             "#d8576b"
            ],
            [
             0.6666666666666666,
             "#ed7953"
            ],
            [
             0.7777777777777778,
             "#fb9f3a"
            ],
            [
             0.8888888888888888,
             "#fdca26"
            ],
            [
             1,
             "#f0f921"
            ]
           ],
           "sequentialminus": [
            [
             0,
             "#0d0887"
            ],
            [
             0.1111111111111111,
             "#46039f"
            ],
            [
             0.2222222222222222,
             "#7201a8"
            ],
            [
             0.3333333333333333,
             "#9c179e"
            ],
            [
             0.4444444444444444,
             "#bd3786"
            ],
            [
             0.5555555555555556,
             "#d8576b"
            ],
            [
             0.6666666666666666,
             "#ed7953"
            ],
            [
             0.7777777777777778,
             "#fb9f3a"
            ],
            [
             0.8888888888888888,
             "#fdca26"
            ],
            [
             1,
             "#f0f921"
            ]
           ]
          },
          "colorway": [
           "#636efa",
           "#EF553B",
           "#00cc96",
           "#ab63fa",
           "#FFA15A",
           "#19d3f3",
           "#FF6692",
           "#B6E880",
           "#FF97FF",
           "#FECB52"
          ],
          "font": {
           "color": "#2a3f5f"
          },
          "geo": {
           "bgcolor": "white",
           "lakecolor": "white",
           "landcolor": "#E5ECF6",
           "showlakes": true,
           "showland": true,
           "subunitcolor": "white"
          },
          "hoverlabel": {
           "align": "left"
          },
          "hovermode": "closest",
          "mapbox": {
           "style": "light"
          },
          "paper_bgcolor": "white",
          "plot_bgcolor": "#E5ECF6",
          "polar": {
           "angularaxis": {
            "gridcolor": "white",
            "linecolor": "white",
            "ticks": ""
           },
           "bgcolor": "#E5ECF6",
           "radialaxis": {
            "gridcolor": "white",
            "linecolor": "white",
            "ticks": ""
           }
          },
          "scene": {
           "xaxis": {
            "backgroundcolor": "#E5ECF6",
            "gridcolor": "white",
            "gridwidth": 2,
            "linecolor": "white",
            "showbackground": true,
            "ticks": "",
            "zerolinecolor": "white"
           },
           "yaxis": {
            "backgroundcolor": "#E5ECF6",
            "gridcolor": "white",
            "gridwidth": 2,
            "linecolor": "white",
            "showbackground": true,
            "ticks": "",
            "zerolinecolor": "white"
           },
           "zaxis": {
            "backgroundcolor": "#E5ECF6",
            "gridcolor": "white",
            "gridwidth": 2,
            "linecolor": "white",
            "showbackground": true,
            "ticks": "",
            "zerolinecolor": "white"
           }
          },
          "shapedefaults": {
           "line": {
            "color": "#2a3f5f"
           }
          },
          "ternary": {
           "aaxis": {
            "gridcolor": "white",
            "linecolor": "white",
            "ticks": ""
           },
           "baxis": {
            "gridcolor": "white",
            "linecolor": "white",
            "ticks": ""
           },
           "bgcolor": "#E5ECF6",
           "caxis": {
            "gridcolor": "white",
            "linecolor": "white",
            "ticks": ""
           }
          },
          "title": {
           "x": 0.05
          },
          "xaxis": {
           "automargin": true,
           "gridcolor": "white",
           "linecolor": "white",
           "ticks": "",
           "title": {
            "standoff": 15
           },
           "zerolinecolor": "white",
           "zerolinewidth": 2
          },
          "yaxis": {
           "automargin": true,
           "gridcolor": "white",
           "linecolor": "white",
           "ticks": "",
           "title": {
            "standoff": 15
           },
           "zerolinecolor": "white",
           "zerolinewidth": 2
          }
         }
        },
        "title": {
         "text": ""
        },
        "xaxis": {
         "anchor": "y",
         "autorange": true,
         "domain": [
          0,
          0.2888888888888889
         ],
         "range": [
          -0.5,
          13.5
         ],
         "type": "category"
        },
        "xaxis2": {
         "anchor": "y2",
         "autorange": true,
         "domain": [
          0.35555555555555557,
          0.6444444444444445
         ],
         "range": [
          -0.5,
          13.5
         ],
         "type": "category"
        },
        "xaxis3": {
         "anchor": "y3",
         "autorange": true,
         "domain": [
          0.7111111111111111,
          1
         ],
         "range": [
          -0.5,
          13.5
         ],
         "type": "category"
        },
        "yaxis": {
         "anchor": "x",
         "domain": [
          0,
          1
         ],
         "range": [
          0,
          4000
         ],
         "type": "linear"
        },
        "yaxis2": {
         "anchor": "x2",
         "domain": [
          0,
          1
         ],
         "range": [
          0,
          4000
         ],
         "type": "linear"
        },
        "yaxis3": {
         "anchor": "x3",
         "domain": [
          0,
          1
         ],
         "range": [
          0,
          4000
         ],
         "type": "linear"
        }
       }
      },
      "image/png": "[encoded data removed]",
      "text/html": [
       "<div>                            <div id=\"da54eefb-2a57-42c9-a00c-d29223cc4f66\" class=\"plotly-graph-div\" style=\"height:525px; width:100%;\"></div>            <script type=\"text/javascript\">                require([\"plotly\"], function(Plotly) {                    window.PLOTLYENV=window.PLOTLYENV || {};                                    if (document.getElementById(\"da54eefb-2a57-42c9-a00c-d29223cc4f66\")) {                    Plotly.newPlot(                        \"da54eefb-2a57-42c9-a00c-d29223cc4f66\",                        [{\"x\":[\"service_a\",\"service_b\",\"service_c\",\"service_d\",\"service_e\",\"service_f\",\"service_g\",\"service_h\",\"service_i\",\"service_j\",\"service_k\",\"service_l\",\"service_m\",\"service_n\"],\"y\":[1814,1206,996,94,178,133,209,1076,62,3265,2969,406,328,958],\"type\":\"bar\",\"xaxis\":\"x\",\"yaxis\":\"y\"},{\"x\":[\"service_a\",\"service_b\",\"service_c\",\"service_d\",\"service_e\",\"service_f\",\"service_g\",\"service_h\",\"service_i\",\"service_j\",\"service_k\",\"service_l\",\"service_m\",\"service_n\"],\"y\":[1184,827,632,0,163,37,127,705,40,2168,1989,258,219,0],\"type\":\"bar\",\"xaxis\":\"x2\",\"yaxis\":\"y2\"},{\"x\":[\"service_a\",\"service_b\",\"service_c\",\"service_d\",\"service_e\",\"service_f\",\"service_g\",\"service_h\",\"service_i\",\"service_j\",\"service_k\",\"service_l\",\"service_m\",\"service_n\"],\"y\":[779,593,465,42,90,63,79,595,27,1353,1298,200,162,466],\"type\":\"bar\",\"xaxis\":\"x3\",\"yaxis\":\"y3\"}],                        {\"template\":{\"data\":{\"histogram2dcontour\":[{\"type\":\"histogram2dcontour\",\"colorbar\":{\"outlinewidth\":0,\"ticks\":\"\"},\"colorscale\":[[0.0,\"#0d0887\"],[0.1111111111111111,\"#46039f\"],[0.2222222222222222,\"#7201a8\"],[0.3333333333333333,\"#9c179e\"],[0.4444444444444444,\"#bd3786\"],[0.5555555555555556,\"#d8576b\"],[0.6666666666666666,\"#ed7953\"],[0.7777777777777778,\"#fb9f3a\"],[0.8888888888888888,\"#fdca26\"],[1.0,\"#f0f921\"]]}],\"choropleth\":[{\"type\":\"choropleth\",\"colorbar\":{\"outlinewidth\":0,\"ticks\":\"\"}}],\"histogram2d\":[{\"type\":\"histogram2d\",\"colorbar\":{\"outlinewidth\":0,\"ticks\":\"\"},\"colorscale\":[[0.0,\"#0d0887\"],[0.1111111111111111,\"#46039f\"],[0.2222222222222222,\"#7201a8\"],[0.3333333333333333,\"#9c179e\"],[0.4444444444444444,\"#bd3786\"],[0.5555555555555556,\"#d8576b\"],[0.6666666666666666,\"#ed7953\"],[0.7777777777777778,\"#fb9f3a\"],[0.8888888888888888,\"#fdca26\"],[1.0,\"#f0f921\"]]}],\"heatmap\":[{\"type\":\"heatmap\",\"colorbar\":{\"outlinewidth\":0,\"ticks\":\"\"},\"colorscale\":[[0.0,\"#0d0887\"],[0.1111111111111111,\"#46039f\"],[0.2222222222222222,\"#7201a8\"],[0.3333333333333333,\"#9c179e\"],[0.4444444444444444,\"#bd3786\"],[0.5555555555555556,\"#d8576b\"],[0.6666666666666666,\"#ed7953\"],[0.7777777777777778,\"#fb9f3a\"],[0.8888888888888888,\"#fdca26\"],[1.0,\"#f0f921\"]]}],\"heatmapgl\":[{\"type\":\"heatmapgl\",\"colorbar\":{\"outlinewidth\":0,\"ticks\":\"\"},\"colorscale\":[[0.0,\"#0d0887\"],[0.1111111111111111,\"#46039f\"],[0.2222222222222222,\"#7201a8\"],[0.3333333333333333,\"#9c179e\"],[0.4444444444444444,\"#bd3786\"],[0.5555555555555556,\"#d8576b\"],[0.6666666666666666,\"#ed7953\"],[0.7777777777777778,\"#fb9f3a\"],[0.8888888888888888,\"#fdca26\"],[1.0,\"#f0f921\"]]}],\"contourcarpet\":[{\"type\":\"contourcarpet\",\"colorbar\":{\"outlinewidth\":0,\"ticks\":\"\"}}],\"contour\":[{\"type\":\"contour\",\"colorbar\":{\"outlinewidth\":0,\"ticks\":\"\"},\"colorscale\":[[0.0,\"#0d0887\"],[0.1111111111111111,\"#46039f\"],[0.2222222222222222,\"#7201a8\"],[0.3333333333333333,\"#9c179e\"],[0.4444444444444444,\"#bd3786\"],[0.5555555555555556,\"#d8576b\"],[0.6666666666666666,\"#ed7953\"],[0.7777777777777778,\"#fb9f3a\"],[0.8888888888888888,\"#fdca26\"],[1.0,\"#f0f921\"]]}],\"surface\":[{\"type\":\"surface\",\"colorbar\":{\"outlinewidth\":0,\"ticks\":\"\"},\"colorscale\":[[0.0,\"#0d0887\"],[0.1111111111111111,\"#46039f\"],[0.2222222222222222,\"#7201a8\"],[0.3333333333333333,\"#9c179e\"],[0.4444444444444444,\"#bd3786\"],[0.5555555555555556,\"#d8576b\"],[0.6666666666666666,\"#ed7953\"],[0.7777777777777778,\"#fb9f3a\"],[0.8888888888888888,\"#fdca26\"],[1.0,\"#f0f921\"]]}],\"mesh3d\":[{\"type\":\"mesh3d\",\"colorbar\":{\"outlinewidth\":0,\"ticks\":\"\"}}],\"scatter\":[{\"fillpattern\":{\"fillmode\":\"overlay\",\"size\":10,\"solidity\":0.2},\"type\":\"scatter\"}],\"parcoords\":[{\"type\":\"parcoords\",\"line\":{\"colorbar\":{\"outlinewidth\":0,\"ticks\":\"\"}}}],\"scatterpolargl\":[{\"type\":\"scatterpolargl\",\"marker\":{\"colorbar\":{\"outlinewidth\":0,\"ticks\":\"\"}}}],\"bar\":[{\"error_x\":{\"color\":\"#2a3f5f\"},\"error_y\":{\"color\":\"#2a3f5f\"},\"marker\":{\"line\":{\"color\":\"#E5ECF6\",\"width\":0.5},\"pattern\":{\"fillmode\":\"overlay\",\"size\":10,\"solidity\":0.2}},\"type\":\"bar\"}],\"scattergeo\":[{\"type\":\"scattergeo\",\"marker\":{\"colorbar\":{\"outlinewidth\":0,\"ticks\":\"\"}}}],\"scatterpolar\":[{\"type\":\"scatterpolar\",\"marker\":{\"colorbar\":{\"outlinewidth\":0,\"ticks\":\"\"}}}],\"histogram\":[{\"marker\":{\"pattern\":{\"fillmode\":\"overlay\",\"size\":10,\"solidity\":0.2}},\"type\":\"histogram\"}],\"scattergl\":[{\"type\":\"scattergl\",\"marker\":{\"colorbar\":{\"outlinewidth\":0,\"ticks\":\"\"}}}],\"scatter3d\":[{\"type\":\"scatter3d\",\"line\":{\"colorbar\":{\"outlinewidth\":0,\"ticks\":\"\"}},\"marker\":{\"colorbar\":{\"outlinewidth\":0,\"ticks\":\"\"}}}],\"scattermapbox\":[{\"type\":\"scattermapbox\",\"marker\":{\"colorbar\":{\"outlinewidth\":0,\"ticks\":\"\"}}}],\"scatterternary\":[{\"type\":\"scatterternary\",\"marker\":{\"colorbar\":{\"outlinewidth\":0,\"ticks\":\"\"}}}],\"scattercarpet\":[{\"type\":\"scattercarpet\",\"marker\":{\"colorbar\":{\"outlinewidth\":0,\"ticks\":\"\"}}}],\"carpet\":[{\"aaxis\":{\"endlinecolor\":\"#2a3f5f\",\"gridcolor\":\"white\",\"linecolor\":\"white\",\"minorgridcolor\":\"white\",\"startlinecolor\":\"#2a3f5f\"},\"baxis\":{\"endlinecolor\":\"#2a3f5f\",\"gridcolor\":\"white\",\"linecolor\":\"white\",\"minorgridcolor\":\"white\",\"startlinecolor\":\"#2a3f5f\"},\"type\":\"carpet\"}],\"table\":[{\"cells\":{\"fill\":{\"color\":\"#EBF0F8\"},\"line\":{\"color\":\"white\"}},\"header\":{\"fill\":{\"color\":\"#C8D4E3\"},\"line\":{\"color\":\"white\"}},\"type\":\"table\"}],\"barpolar\":[{\"marker\":{\"line\":{\"color\":\"#E5ECF6\",\"width\":0.5},\"pattern\":{\"fillmode\":\"overlay\",\"size\":10,\"solidity\":0.2}},\"type\":\"barpolar\"}],\"pie\":[{\"automargin\":true,\"type\":\"pie\"}]},\"layout\":{\"autotypenumbers\":\"strict\",\"colorway\":[\"#636efa\",\"#EF553B\",\"#00cc96\",\"#ab63fa\",\"#FFA15A\",\"#19d3f3\",\"#FF6692\",\"#B6E880\",\"#FF97FF\",\"#FECB52\"],\"font\":{\"color\":\"#2a3f5f\"},\"hovermode\":\"closest\",\"hoverlabel\":{\"align\":\"left\"},\"paper_bgcolor\":\"white\",\"plot_bgcolor\":\"#E5ECF6\",\"polar\":{\"bgcolor\":\"#E5ECF6\",\"angularaxis\":{\"gridcolor\":\"white\",\"linecolor\":\"white\",\"ticks\":\"\"},\"radialaxis\":{\"gridcolor\":\"white\",\"linecolor\":\"white\",\"ticks\":\"\"}},\"ternary\":{\"bgcolor\":\"#E5ECF6\",\"aaxis\":{\"gridcolor\":\"white\",\"linecolor\":\"white\",\"ticks\":\"\"},\"baxis\":{\"gridcolor\":\"white\",\"linecolor\":\"white\",\"ticks\":\"\"},\"caxis\":{\"gridcolor\":\"white\",\"linecolor\":\"white\",\"ticks\":\"\"}},\"coloraxis\":{\"colorbar\":{\"outlinewidth\":0,\"ticks\":\"\"}},\"colorscale\":{\"sequential\":[[0.0,\"#0d0887\"],[0.1111111111111111,\"#46039f\"],[0.2222222222222222,\"#7201a8\"],[0.3333333333333333,\"#9c179e\"],[0.4444444444444444,\"#bd3786\"],[0.5555555555555556,\"#d8576b\"],[0.6666666666666666,\"#ed7953\"],[0.7777777777777778,\"#fb9f3a\"],[0.8888888888888888,\"#fdca26\"],[1.0,\"#f0f921\"]],\"sequentialminus\":[[0.0,\"#0d0887\"],[0.1111111111111111,\"#46039f\"],[0.2222222222222222,\"#7201a8\"],[0.3333333333333333,\"#9c179e\"],[0.4444444444444444,\"#bd3786\"],[0.5555555555555556,\"#d8576b\"],[0.6666666666666666,\"#ed7953\"],[0.7777777777777778,\"#fb9f3a\"],[0.8888888888888888,\"#fdca26\"],[1.0,\"#f0f921\"]],\"diverging\":[[0,\"#8e0152\"],[0.1,\"#c51b7d\"],[0.2,\"#de77ae\"],[0.3,\"#f1b6da\"],[0.4,\"#fde0ef\"],[0.5,\"#f7f7f7\"],[0.6,\"#e6f5d0\"],[0.7,\"#b8e186\"],[0.8,\"#7fbc41\"],[0.9,\"#4d9221\"],[1,\"#276419\"]]},\"xaxis\":{\"gridcolor\":\"white\",\"linecolor\":\"white\",\"ticks\":\"\",\"title\":{\"standoff\":15},\"zerolinecolor\":\"white\",\"automargin\":true,\"zerolinewidth\":2},\"yaxis\":{\"gridcolor\":\"white\",\"linecolor\":\"white\",\"ticks\":\"\",\"title\":{\"standoff\":15},\"zerolinecolor\":\"white\",\"automargin\":true,\"zerolinewidth\":2},\"scene\":{\"xaxis\":{\"backgroundcolor\":\"#E5ECF6\",\"gridcolor\":\"white\",\"linecolor\":\"white\",\"showbackground\":true,\"ticks\":\"\",\"zerolinecolor\":\"white\",\"gridwidth\":2},\"yaxis\":{\"backgroundcolor\":\"#E5ECF6\",\"gridcolor\":\"white\",\"linecolor\":\"white\",\"showbackground\":true,\"ticks\":\"\",\"zerolinecolor\":\"white\",\"gridwidth\":2},\"zaxis\":{\"backgroundcolor\":\"#E5ECF6\",\"gridcolor\":\"white\",\"linecolor\":\"white\",\"showbackground\":true,\"ticks\":\"\",\"zerolinecolor\":\"white\",\"gridwidth\":2}},\"shapedefaults\":{\"line\":{\"color\":\"#2a3f5f\"}},\"annotationdefaults\":{\"arrowcolor\":\"#2a3f5f\",\"arrowhead\":0,\"arrowwidth\":1},\"geo\":{\"bgcolor\":\"white\",\"landcolor\":\"#E5ECF6\",\"subunitcolor\":\"white\",\"showland\":true,\"showlakes\":true,\"lakecolor\":\"white\"},\"title\":{\"x\":0.05},\"mapbox\":{\"style\":\"light\"}}},\"xaxis\":{\"anchor\":\"y\",\"domain\":[0.0,0.2888888888888889]},\"yaxis\":{\"anchor\":\"x\",\"domain\":[0.0,1.0],\"range\":[0,4000]},\"xaxis2\":{\"anchor\":\"y2\",\"domain\":[0.35555555555555557,0.6444444444444445]},\"yaxis2\":{\"anchor\":\"x2\",\"domain\":[0.0,1.0],\"range\":[0,4000]},\"xaxis3\":{\"anchor\":\"y3\",\"domain\":[0.7111111111111111,1.0]},\"yaxis3\":{\"anchor\":\"x3\",\"domain\":[0.0,1.0],\"range\":[0,4000]},\"annotations\":[{\"font\":{\"size\":16},\"showarrow\":false,\"text\":\"`A`: serv\\u002ftotal=13694\\u002f3838=3.57\",\"x\":0.14444444444444446,\"xanchor\":\"center\",\"xref\":\"paper\",\"y\":1.0,\"yanchor\":\"bottom\",\"yref\":\"paper\"},{\"font\":{\"size\":16},\"showarrow\":false,\"text\":\"`B`: serv\\u002ftotal=8349\\u002f2464=3.39\",\"x\":0.5,\"xanchor\":\"center\",\"xref\":\"paper\",\"y\":1.0,\"yanchor\":\"bottom\",\"yref\":\"paper\"},{\"font\":{\"size\":16},\"showarrow\":false,\"text\":\"`C`: serv\\u002ftotal=6212\\u002f1698=3.66\",\"x\":0.8555555555555556,\"xanchor\":\"center\",\"xref\":\"paper\",\"y\":1.0,\"yanchor\":\"bottom\",\"yref\":\"paper\"}],\"title\":{\"text\":\"\"},\"showlegend\":false},                        {\"responsive\": true}                    ).then(function(){\n",
       "                            \n",
       "var gd = document.getElementById('da54eefb-2a57-42c9-a00c-d29223cc4f66');\n",
       "var x = new MutationObserver(function (mutations, observer) {{\n",
       "        var display = window.getComputedStyle(gd).display;\n",
       "        if (!display || display === 'none') {{\n",
       "            console.log([gd, 'removed!']);\n",
       "            Plotly.purge(gd);\n",
       "            observer.disconnect();\n",
       "        }}\n",
       "}});\n",
       "\n",
       "// Listen for the removal of the full notebook cells\n",
       "var notebookContainer = gd.closest('#notebook-container');\n",
       "if (notebookContainer) {{\n",
       "    x.observe(notebookContainer, {childList: true});\n",
       "}}\n",
       "\n",
       "// Listen for the clearing of the current output cell\n",
       "var outputEl = gd.closest('.output');\n",
       "if (outputEl) {{\n",
       "    x.observe(outputEl, {childList: true});\n",
       "}}\n",
       "\n",
       "                        })                };                });            </script>        </div>"
      ]
     },
     "metadata": {},
     "output_type": "display_data"
    }
   ],
   "source": [
    "import math \n",
    "columns = LABELS.columns.tolist()\n",
    "\n",
    "total_a = DATA_W_LABELS[DATA_W_LABELS.release == 'a'][columns].sum().values\n",
    "total_b = DATA_W_LABELS[DATA_W_LABELS.release == 'b'][columns].sum().values\n",
    "total_c = DATA_W_LABELS[DATA_W_LABELS.release == 'c'][columns].sum().values\n",
    "\n",
    "a = DATA_W_LABELS[DATA_W_LABELS.release == 'a'].shape[0]\n",
    "b = DATA_W_LABELS[DATA_W_LABELS.release == 'b'].shape[0]\n",
    "c = DATA_W_LABELS[DATA_W_LABELS.release == 'c'].shape[0]\n",
    "\n",
    "def simple_bar_subplots(xs, ys, titles=None, main_title='', cols: int = 2, yaxis=None, height=None, width=None):\n",
    "    fig = make_subplots(\n",
    "        rows=math.ceil(len(xs) / cols), cols=cols,\n",
    "        subplot_titles=titles\n",
    "    )\n",
    "    row, col = 1, 1\n",
    "    for x, y in zip(xs, ys):\n",
    "        fig.add_trace(go.Bar(x=x, y=y), row=row, col=col)\n",
    "        fig.update_layout(yaxis_range=yaxis)\n",
    "        col += 1\n",
    "        if col > cols:\n",
    "            row += 1 \n",
    "            col = 1\n",
    "    fig.update_layout(\n",
    "        showlegend=False,\n",
    "        title_text=main_title,\n",
    "        height=height, width=width,\n",
    "    )\n",
    "    if yaxis:\n",
    "        fig.update_yaxes(range=yaxis)\n",
    "    return fig\n",
    "\n",
    "simple_bar_subplots(\n",
    "    xs=[columns,columns, columns],\n",
    "    ys=[total_a, total_b, total_c],\n",
    "    titles=['`A`: serv/total='+str(total_a.sum())+'/'+str(a)+'='+str(np.round(total_a.sum()/a, 2)),\n",
    "            '`B`: serv/total='+str(total_b.sum())+'/'+str(b)+'='+str(np.round(total_b.sum()/b, 2)),\n",
    "            '`C`: serv/total='+str(total_c.sum())+'/'+str(c)+'='+str(np.round(total_c.sum()/c, 2))],\n",
    "    cols=3,\n",
    "    yaxis=[0, 4000]\n",
    ")"
   ]
  },
  {
   "cell_type": "markdown",
   "id": "6b95dec9-65b4-4618-9961-b917f96250e0",
   "metadata": {},
   "source": [
    "We will see later that by using a stratified train-test split with respect to this column and the label columns, we can achieve a significant reduction in error variance."
   ]
  },
  {
   "cell_type": "code",
   "execution_count": null,
   "id": "02ba89e9-5e78-471a-b3e3-f0eb5c03d4c7",
   "metadata": {},
   "outputs": [],
   "source": [
    "# Save the figure locally\n",
    "fig.write_html(\"release_analysis.html\")\n",
    "\n",
    "# Show the figure\n",
    "from IPython.display import HTML\n",
    "HTML(filename=\"release_analysis.html\")"
   ]
  }
 ],
 "metadata": {
  "kernelspec": {
   "display_name": "Python 3 (ipykernel)",
   "language": "python",
   "name": "python3"
  },
  "language_info": {
   "codemirror_mode": {
    "name": "ipython",
    "version": 3
   },
   "file_extension": ".py",
   "mimetype": "text/x-python",
   "name": "python",
   "nbconvert_exporter": "python",
   "pygments_lexer": "ipython3",
   "version": "3.10.12"
  }
 },
 "nbformat": 4,
 "nbformat_minor": 5
}
